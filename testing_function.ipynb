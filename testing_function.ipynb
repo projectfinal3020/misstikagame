{
 "cells": [
  {
   "cell_type": "code",
   "execution_count": 1,
   "metadata": {},
   "outputs": [],
   "source": [
    "import librosa\n",
    "from pydub import AudioSegment\n",
    "\n",
    "def convert_m4a_to_wav(m4a_path, wav_path):\n",
    "    \"\"\"\n",
    "    Converts an M4A audio file to a WAV file and loads it using librosa.\n",
    "    \n",
    "    Args:\n",
    "        m4a_path (str): Path to the input M4A file.\n",
    "        wav_path (str): Path to save the output WAV file.\n",
    "    \n",
    "    Returns:\n",
    "        np.ndarray: The audio data loaded with librosa.\n",
    "        int: The sample rate of the audio data.\n",
    "    \"\"\"\n",
    "    audio = AudioSegment.from_file(m4a_path, format='m4a')\n",
    "    audio.export(wav_path, format='wav')\n",
    "\n",
    "    # Load the WAV file using librosa\n",
    "    audio_data, sample_rate = librosa.load(wav_path)\n",
    "\n",
    "    return audio_data, sample_rate"
   ]
  },
  {
   "cell_type": "code",
   "execution_count": 3,
   "metadata": {},
   "outputs": [],
   "source": [
    "m4a_file = 'Recording.m4a'\n",
    "wav_file = 'AudioFIle/file.wav'\n",
    "\n",
    "audio_data, sample_rate = convert_m4a_to_wav(m4a_file, wav_file)"
   ]
  },
  {
   "cell_type": "code",
   "execution_count": 4,
   "metadata": {},
   "outputs": [
    {
     "data": {
      "text/plain": [
       "array([0.0000000e+00, 2.9802322e-08, 2.2351742e-08, ..., 1.7422810e-04,\n",
       "       2.7426518e-04, 3.5361759e-04], dtype=float32)"
      ]
     },
     "execution_count": 4,
     "metadata": {},
     "output_type": "execute_result"
    }
   ],
   "source": [
    "audio_data"
   ]
  },
  {
   "cell_type": "code",
   "execution_count": 5,
   "metadata": {},
   "outputs": [
    {
     "data": {
      "text/plain": [
       "22050"
      ]
     },
     "execution_count": 5,
     "metadata": {},
     "output_type": "execute_result"
    }
   ],
   "source": [
    "sample_rate"
   ]
  },
  {
   "cell_type": "code",
   "execution_count": null,
   "metadata": {},
   "outputs": [],
   "source": []
  }
 ],
 "metadata": {
  "kernelspec": {
   "display_name": "api",
   "language": "python",
   "name": "python3"
  },
  "language_info": {
   "codemirror_mode": {
    "name": "ipython",
    "version": 3
   },
   "file_extension": ".py",
   "mimetype": "text/x-python",
   "name": "python",
   "nbconvert_exporter": "python",
   "pygments_lexer": "ipython3",
   "version": "3.11.2"
  },
  "orig_nbformat": 4
 },
 "nbformat": 4,
 "nbformat_minor": 2
}
